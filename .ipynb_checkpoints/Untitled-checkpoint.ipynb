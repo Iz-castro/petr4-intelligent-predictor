{
 "cells": [
  {
   "cell_type": "code",
   "execution_count": 1,
   "id": "00c32b5e-0957-4694-aafe-d199f0f81e07",
   "metadata": {},
   "outputs": [],
   "source": [
    "import pandas as pd"
   ]
  },
  {
   "cell_type": "code",
   "execution_count": 2,
   "id": "db3a7226-cf06-4b8e-988c-7c69c53d591f",
   "metadata": {},
   "outputs": [],
   "source": [
    "# Carregar arquivos originais\n",
    "df_train = pd.read_csv(\"PETR4_train.csv\")\n",
    "df_test = pd.read_csv(\"PETR4_test.csv\")\n",
    "\n",
    "# Garantir que 'Data' esteja em formato datetime\n",
    "df_train[\"Data\"] = pd.to_datetime(df_train[\"Data\"], errors=\"coerce\")\n",
    "df_test[\"Data\"] = pd.to_datetime(df_test[\"Data\"], errors=\"coerce\")"
   ]
  },
  {
   "cell_type": "code",
   "execution_count": 3,
   "id": "f1794a80-7e7a-4bda-a66d-01dc0db7ee6d",
   "metadata": {},
   "outputs": [],
   "source": [
    "# Concatenar\n",
    "df_total = pd.concat([df_train, df_test], ignore_index=True)"
   ]
  },
  {
   "cell_type": "code",
   "execution_count": 4,
   "id": "6f88f20f-0621-465b-a7fd-38391f15ab28",
   "metadata": {},
   "outputs": [],
   "source": [
    "# Ordenar por Data\n",
    "df_total = df_total.sort_values(\"Data\").dropna()"
   ]
  },
  {
   "cell_type": "code",
   "execution_count": 5,
   "id": "970b3e40-a6a4-4f37-948b-c5e343017f68",
   "metadata": {},
   "outputs": [],
   "source": [
    "# Criar pasta logs se não existir\n",
    "import os\n",
    "os.makedirs(\"logs\", exist_ok=True)"
   ]
  },
  {
   "cell_type": "code",
   "execution_count": 6,
   "id": "988ec985-c46b-464f-978f-f63bedb7987b",
   "metadata": {},
   "outputs": [
    {
     "name": "stdout",
     "output_type": "stream",
     "text": [
      "Arquivo 'historico_pet4_2000_2025.csv' gerado com sucesso dentro da pasta /logs!\n"
     ]
    }
   ],
   "source": [
    "# Salvar o CSV final\n",
    "df_total.to_csv(\"logs/historico_pet4_2000_2025.csv\", index=False)\n",
    "\n",
    "print(\"Arquivo 'historico_pet4_2000_2025.csv' gerado com sucesso dentro da pasta /logs!\")"
   ]
  },
  {
   "cell_type": "code",
   "execution_count": null,
   "id": "5d23de03-cf36-4714-872f-44b57c479476",
   "metadata": {},
   "outputs": [],
   "source": []
  }
 ],
 "metadata": {
  "kernelspec": {
   "display_name": "Python 3 (ipykernel)",
   "language": "python",
   "name": "python3"
  },
  "language_info": {
   "codemirror_mode": {
    "name": "ipython",
    "version": 3
   },
   "file_extension": ".py",
   "mimetype": "text/x-python",
   "name": "python",
   "nbconvert_exporter": "python",
   "pygments_lexer": "ipython3",
   "version": "3.10.11"
  }
 },
 "nbformat": 4,
 "nbformat_minor": 5
}
